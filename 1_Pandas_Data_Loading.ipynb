{
  "nbformat": 4,
  "nbformat_minor": 0,
  "metadata": {
    "colab": {
      "provenance": [],
      "authorship_tag": "ABX9TyM9yDkiUafuRV0VHsL92L9Y",
      "include_colab_link": true
    },
    "kernelspec": {
      "name": "python3",
      "display_name": "Python 3"
    },
    "language_info": {
      "name": "python"
    }
  },
  "cells": [
    {
      "cell_type": "markdown",
      "metadata": {
        "id": "view-in-github",
        "colab_type": "text"
      },
      "source": [
        "<a href=\"https://colab.research.google.com/github/newbie-sandy/datasci_1_loading/blob/main/1_Pandas_Data_Loading.ipynb\" target=\"_parent\"><img src=\"https://colab.research.google.com/assets/colab-badge.svg\" alt=\"Open In Colab\"/></a>"
      ]
    },
    {
      "cell_type": "markdown",
      "source": [
        "# Pandas data loading"
      ],
      "metadata": {
        "id": "oTPxtkmlcEnN"
      }
    },
    {
      "cell_type": "code",
      "execution_count": 14,
      "metadata": {
        "id": "pbDgFyjoTxzv"
      },
      "outputs": [],
      "source": [
        "import pandas as pd"
      ]
    },
    {
      "cell_type": "markdown",
      "source": [
        "## HHS COVID-19 Small Area Estimations Survey - Updated Bivalent Vaccine Audience - Wave 28"
      ],
      "metadata": {
        "id": "aMTIAcdKgVBx"
      }
    },
    {
      "cell_type": "code",
      "source": [
        "df = pd.read_csv('/content/HHS_COVID-19_Small_Area_Estimations_Survey_-_Updated_Bivalent_Vaccine_Audience_-_Wave_28.csv')"
      ],
      "metadata": {
        "id": "8wdldR4wcfSX"
      },
      "execution_count": 7,
      "outputs": []
    },
    {
      "cell_type": "code",
      "source": [
        "print(df)"
      ],
      "metadata": {
        "colab": {
          "base_uri": "https://localhost:8080/"
        },
        "id": "MF0dzkP_fUuC",
        "outputId": "4cf707e7-9a74-4047-8136-eb7de0698411"
      },
      "execution_count": 8,
      "outputs": [
        {
          "output_type": "stream",
          "name": "stdout",
          "text": [
            "       FIPS  enthusiast_est  enthusiast_se  audience_est  audience_se  \\\n",
            "0      1001        0.126536       0.052298      0.378104     0.046671   \n",
            "1      1003        0.138835       0.059893      0.383210     0.029250   \n",
            "2      1005        0.150010       0.039736      0.320237     0.061306   \n",
            "3      1007        0.102088       0.046031      0.330942     0.052925   \n",
            "4      1009        0.086881       0.054482      0.252993     0.078302   \n",
            "...     ...             ...            ...           ...          ...   \n",
            "3109  56037        0.112153       0.042840      0.332567     0.024867   \n",
            "3110  56039        0.289330       0.052718      0.368518     0.053752   \n",
            "3111  56041        0.091762       0.054424      0.440166     0.124213   \n",
            "3112  56043        0.103475       0.058773      0.210953     0.088401   \n",
            "3113  56045        0.109422       0.042298      0.268925     0.063106   \n",
            "\n",
            "      no_outreach_est  no_outreach_se  \n",
            "0            0.495360        0.037695  \n",
            "1            0.477955        0.035262  \n",
            "2            0.529753        0.063686  \n",
            "3            0.566970        0.090586  \n",
            "4            0.660125        0.125079  \n",
            "...               ...             ...  \n",
            "3109         0.555279        0.052273  \n",
            "3110         0.342152        0.063107  \n",
            "3111         0.468073        0.099425  \n",
            "3112         0.685572        0.143083  \n",
            "3113         0.621653        0.098569  \n",
            "\n",
            "[3114 rows x 7 columns]\n"
          ]
        }
      ]
    },
    {
      "cell_type": "code",
      "source": [
        "df = pd.read_csv('https://catalog.data.gov/harvest/object/94019adc-f5ed-4297-a186-e3413b6db546')"
      ],
      "metadata": {
        "id": "mrVM-N8ngvlT"
      },
      "execution_count": 11,
      "outputs": []
    },
    {
      "cell_type": "code",
      "source": [
        "print(df)"
      ],
      "metadata": {
        "colab": {
          "base_uri": "https://localhost:8080/"
        },
        "id": "vB5cuknYiSz8",
        "outputId": "f22cfffa-1b0f-4e22-a10f-e34d4dbee9d8"
      },
      "execution_count": 12,
      "outputs": [
        {
          "output_type": "stream",
          "name": "stdout",
          "text": [
            "Empty DataFrame\n",
            "Columns: [{\"@type\": \"dcat:Dataset\",  \"accessLevel\": \"public\",  \"contactPoint\": {\"@type\": \"vcard:Contact\",  \"fn\": \"LAPD OpenData\",  \"hasEmail\": \"mailto:no-reply@data.lacity.org\"},  \"description\": \"This dataset reflects incidents of crime in the City of Los Angeles dating back to 2020. This data is transcribed from original crime reports that are typed on paper and therefore there may be some inaccuracies within the data. Some location fields with missing data are noted as (0\\u00b0,  0\\u00b0). Address fields are only provided to the nearest hundred block in order to maintain privacy. This data is as accurate as the data in the database. Please note questions or concerns in the comments.\",  \"distribution\": [{\"@type\": \"dcat:Distribution\",  \"downloadURL\": \"https://data.lacity.org/api/views/2nrs-mtv8/rows.csv?accessType=DOWNLOAD\",  \"mediaType\": \"text/csv\"},  {\"@type\": \"dcat:Distribution\",  \"describedBy\": \"https://data.lacity.org/api/views/2nrs-mtv8/columns.rdf\",  \"describedByType\": \"application/rdf+xml\",  \"downloadURL\": \"https://data.lacity.org/api/views/2nrs-mtv8/rows.rdf?accessType=DOWNLOAD\",  \"mediaType\": \"application/rdf+xml\"},  {\"@type\": \"dcat:Distribution\".1,  \"describedBy\": \"https://data.lacity.org/api/views/2nrs-mtv8/columns.json\",  \"describedByType\": \"application/json\",  \"downloadURL\": \"https://data.lacity.org/api/views/2nrs-mtv8/rows.json?accessType=DOWNLOAD\",  \"mediaType\": \"application/json\"},  {\"@type\": \"dcat:Distribution\".2,  \"describedBy\": \"https://data.lacity.org/api/views/2nrs-mtv8/columns.xml\",  \"describedByType\": \"application/xml\",  \"downloadURL\": \"https://data.lacity.org/api/views/2nrs-mtv8/rows.xml?accessType=DOWNLOAD\",  \"mediaType\": \"application/xml\"}],  \"identifier\": \"https://data.lacity.org/api/views/2nrs-mtv8\",  \"issued\": \"2020-02-10\",  \"keyword\": [\"crime\",  \"crime data\",  \"crimes\",  \"lapd\",  \"police\",  \"safe city\"],  \"landingPage\": \"https://data.lacity.org/d/2nrs-mtv8\",  \"license\": \"http://creativecommons.org/publicdomain/zero/1.0/legalcode\",  \"modified\": \"2023-08-30\",  \"publisher\": {\"@type\": \"org:Organization\",  \"name\": \"data.lacity.org\"},  \"theme\": [\"Public Safety\"],  \"title\": \"Crime Data from 2020 to Present\"}]\n",
            "Index: []\n",
            "\n",
            "[0 rows x 40 columns]\n"
          ]
        }
      ]
    },
    {
      "cell_type": "markdown",
      "source": [
        "## Incidence of Whooping Cough in China in 2018 (by Province)"
      ],
      "metadata": {
        "id": "Mnn5zDmLkMre"
      }
    },
    {
      "cell_type": "code",
      "source": [
        "df = pd.read_excel('/content/2018.xlsx')"
      ],
      "metadata": {
        "id": "OdlQ2WJkjFiN"
      },
      "execution_count": 18,
      "outputs": []
    },
    {
      "cell_type": "code",
      "source": [
        "print(df)"
      ],
      "metadata": {
        "colab": {
          "base_uri": "https://localhost:8080/"
        },
        "id": "LxKBkJrVkC8M",
        "outputId": "6ce78f56-682b-4283-d76b-ba7b93695510"
      },
      "execution_count": 19,
      "outputs": [
        {
          "output_type": "stream",
          "name": "stdout",
          "text": [
            "           Unnamed: 0 Unnamed: 1 Unnamed: 2 Unnamed: 3  Unnamed: 4  Unnamed: 5\n",
            "0                 NaN        NaN      百 日 咳        NaN         NaN         NaN\n",
            "1                 NaN         地区        发病数        死亡数  发病率(1/10万)  死亡率(1/10万)\n",
            "2                 NaN     全    国      22057          2    1.587866    0.000144\n",
            "3                 NaN        北京市        188          0     0.86608         NaN\n",
            "4                 NaN        天津市        821          0    5.273403         NaN\n",
            "5                 NaN        河北省        904          0    1.202204         NaN\n",
            "6                 NaN        山西省        183          0    0.494281         NaN\n",
            "7                 NaN        内蒙古         48          0    0.189821         NaN\n",
            "8                 NaN        辽宁省          4          0    0.009156         NaN\n",
            "9                 NaN        吉林省         26          0    0.095679         NaN\n",
            "10                NaN       黑龙江省         42          0    0.110856         NaN\n",
            "11                NaN        上海市        113          0    0.467265         NaN\n",
            "12                NaN        江苏省        136          0    0.169379         NaN\n",
            "13                NaN        浙江省        771          0    1.362914         NaN\n",
            "14                NaN        安徽省        212          0     0.33894         NaN\n",
            "15                NaN        福建省        146          0    0.373306         NaN\n",
            "16                NaN        江西省        259          0    0.560352         NaN\n",
            "17                NaN        山东省       5770          1    5.766639    0.000999\n",
            "18                NaN        河南省        304          0    0.318021         NaN\n",
            "19                NaN        湖北省        273          0    0.462555         NaN\n",
            "20                NaN        湖南省       1986          0    2.895014         NaN\n",
            "21                NaN        广东省       2480          0    2.220432         NaN\n",
            "22                NaN     广    西        176          0    0.360287         NaN\n",
            "23                NaN        海南省         27          0    0.269413         NaN\n",
            "24                NaN        重庆市       2169          0    7.053291         NaN\n",
            "25                NaN        四川省       1293          1    1.557456    0.001205\n",
            "26                NaN        贵州省        540          0     1.50838         NaN\n",
            "27                NaN        云南省         91          0    0.189564         NaN\n",
            "28                NaN     西    藏          1          0     0.02966         NaN\n",
            "29                NaN        陕西省       2378          0    6.200068         NaN\n",
            "30                NaN        甘肃省        291          0    1.108272         NaN\n",
            "31                NaN        青海省          5          0    0.083559         NaN\n",
            "32                NaN         宁夏         17          0    0.249347         NaN\n",
            "33                NaN         新疆        403          0    1.648483         NaN\n",
            "34  2023年5月29日 下午6:56        NaN        NaN        NaN         NaN         NaN\n"
          ]
        }
      ]
    }
  ]
}